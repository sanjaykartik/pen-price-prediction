{
 "cells": [
  {
   "cell_type": "markdown",
   "id": "a1a2fc52-82d7-4435-a9f7-20b8d5505e48",
   "metadata": {},
   "source": [
    "## import the required libraries"
   ]
  },
  {
   "cell_type": "code",
   "execution_count": 1,
   "id": "10e5c4d7-cd6d-4573-af03-1201e65ac2be",
   "metadata": {},
   "outputs": [],
   "source": [
    "import pandas as pd \n",
    "import numpy as np\n",
    "import matplotlib.pyplot as plt\n",
    "import seaborn as sn\n",
    "import scipy.stats as stats\n",
    "from sklearn.model_selection import train_test_split\n",
    "from sklearn.linear_model import LinearRegression\n",
    "from sklearn.metrics import mean_absolute_error,mean_squared_error,r2_score"
   ]
  },
  {
   "cell_type": "markdown",
   "id": "b3edd38d-30cd-4dc9-91a8-cd99cf96def3",
   "metadata": {},
   "source": [
    "## loading csv file"
   ]
  },
  {
   "cell_type": "code",
   "execution_count": 2,
   "id": "db1c5e02-8056-4cff-92fe-5fd8b083df97",
   "metadata": {},
   "outputs": [],
   "source": [
    "data=pd.read_csv(\"pen_price.csv\")"
   ]
  },
  {
   "cell_type": "markdown",
   "id": "de9dfe2f-d562-4a0b-9a78-216113fa1616",
   "metadata": {},
   "source": [
    "## inspect the dataframe"
   ]
  },
  {
   "cell_type": "code",
   "execution_count": 3,
   "id": "4e163f62-e47a-403e-8951-537ad738b7f8",
   "metadata": {},
   "outputs": [
    {
     "data": {
      "text/html": [
       "<div>\n",
       "<style scoped>\n",
       "    .dataframe tbody tr th:only-of-type {\n",
       "        vertical-align: middle;\n",
       "    }\n",
       "\n",
       "    .dataframe tbody tr th {\n",
       "        vertical-align: top;\n",
       "    }\n",
       "\n",
       "    .dataframe thead th {\n",
       "        text-align: right;\n",
       "    }\n",
       "</style>\n",
       "<table border=\"1\" class=\"dataframe\">\n",
       "  <thead>\n",
       "    <tr style=\"text-align: right;\">\n",
       "      <th></th>\n",
       "      <th>pen</th>\n",
       "      <th>price</th>\n",
       "    </tr>\n",
       "  </thead>\n",
       "  <tbody>\n",
       "    <tr>\n",
       "      <th>0</th>\n",
       "      <td>5</td>\n",
       "      <td>25</td>\n",
       "    </tr>\n",
       "    <tr>\n",
       "      <th>1</th>\n",
       "      <td>3</td>\n",
       "      <td>15</td>\n",
       "    </tr>\n",
       "    <tr>\n",
       "      <th>2</th>\n",
       "      <td>20</td>\n",
       "      <td>95</td>\n",
       "    </tr>\n",
       "    <tr>\n",
       "      <th>3</th>\n",
       "      <td>10</td>\n",
       "      <td>48</td>\n",
       "    </tr>\n",
       "    <tr>\n",
       "      <th>4</th>\n",
       "      <td>9</td>\n",
       "      <td>45</td>\n",
       "    </tr>\n",
       "  </tbody>\n",
       "</table>\n",
       "</div>"
      ],
      "text/plain": [
       "   pen  price\n",
       "0    5     25\n",
       "1    3     15\n",
       "2   20     95\n",
       "3   10     48\n",
       "4    9     45"
      ]
     },
     "execution_count": 3,
     "metadata": {},
     "output_type": "execute_result"
    }
   ],
   "source": [
    "data.head()"
   ]
  },
  {
   "cell_type": "code",
   "execution_count": 4,
   "id": "d2e214fa-2db7-454c-82ab-a2437d04e36b",
   "metadata": {},
   "outputs": [
    {
     "data": {
      "text/html": [
       "<div>\n",
       "<style scoped>\n",
       "    .dataframe tbody tr th:only-of-type {\n",
       "        vertical-align: middle;\n",
       "    }\n",
       "\n",
       "    .dataframe tbody tr th {\n",
       "        vertical-align: top;\n",
       "    }\n",
       "\n",
       "    .dataframe thead th {\n",
       "        text-align: right;\n",
       "    }\n",
       "</style>\n",
       "<table border=\"1\" class=\"dataframe\">\n",
       "  <thead>\n",
       "    <tr style=\"text-align: right;\">\n",
       "      <th></th>\n",
       "      <th>pen</th>\n",
       "      <th>price</th>\n",
       "    </tr>\n",
       "  </thead>\n",
       "  <tbody>\n",
       "    <tr>\n",
       "      <th>5</th>\n",
       "      <td>12</td>\n",
       "      <td>58</td>\n",
       "    </tr>\n",
       "    <tr>\n",
       "      <th>6</th>\n",
       "      <td>17</td>\n",
       "      <td>80</td>\n",
       "    </tr>\n",
       "    <tr>\n",
       "      <th>7</th>\n",
       "      <td>14</td>\n",
       "      <td>67</td>\n",
       "    </tr>\n",
       "    <tr>\n",
       "      <th>8</th>\n",
       "      <td>8</td>\n",
       "      <td>40</td>\n",
       "    </tr>\n",
       "    <tr>\n",
       "      <th>9</th>\n",
       "      <td>6</td>\n",
       "      <td>30</td>\n",
       "    </tr>\n",
       "  </tbody>\n",
       "</table>\n",
       "</div>"
      ],
      "text/plain": [
       "   pen  price\n",
       "5   12     58\n",
       "6   17     80\n",
       "7   14     67\n",
       "8    8     40\n",
       "9    6     30"
      ]
     },
     "execution_count": 4,
     "metadata": {},
     "output_type": "execute_result"
    }
   ],
   "source": [
    "data.tail()"
   ]
  },
  {
   "cell_type": "markdown",
   "id": "0a328a39-f247-44a8-8aab-94615bdb4486",
   "metadata": {},
   "source": [
    "## check the shape of dataframe"
   ]
  },
  {
   "cell_type": "code",
   "execution_count": 5,
   "id": "8d60e19e-ed61-4eaa-be48-193c483a6e45",
   "metadata": {},
   "outputs": [
    {
     "data": {
      "text/plain": [
       "(10, 2)"
      ]
     },
     "execution_count": 5,
     "metadata": {},
     "output_type": "execute_result"
    }
   ],
   "source": [
    "data.shape"
   ]
  },
  {
   "cell_type": "markdown",
   "id": "e890003f-371b-43af-8cd1-1578059595cd",
   "metadata": {},
   "source": [
    "## checking for missing values"
   ]
  },
  {
   "cell_type": "code",
   "execution_count": 6,
   "id": "8e7bfa04-27e9-4360-8e04-fb72c6a2640a",
   "metadata": {},
   "outputs": [
    {
     "data": {
      "text/plain": [
       "pen      0\n",
       "price    0\n",
       "dtype: int64"
      ]
     },
     "execution_count": 6,
     "metadata": {},
     "output_type": "execute_result"
    }
   ],
   "source": [
    "data.isnull().sum()"
   ]
  },
  {
   "cell_type": "markdown",
   "id": "48a1b089-6dd3-4519-a28d-de134fd02237",
   "metadata": {},
   "source": [
    "## checking for dupliated values"
   ]
  },
  {
   "cell_type": "code",
   "execution_count": 7,
   "id": "f75b9ad9-46bc-4e89-b2f8-ea156762778c",
   "metadata": {},
   "outputs": [
    {
     "data": {
      "text/plain": [
       "0"
      ]
     },
     "execution_count": 7,
     "metadata": {},
     "output_type": "execute_result"
    }
   ],
   "source": [
    "data.duplicated().sum()"
   ]
  },
  {
   "cell_type": "markdown",
   "id": "8737bbd2-8991-4731-a289-1e64e005f2ad",
   "metadata": {},
   "source": [
    "## assumptions of linear regression\n",
    "## 1.linearity"
   ]
  },
  {
   "cell_type": "code",
   "execution_count": 8,
   "id": "0a950ca8-d7e1-490a-8d77-666decacef71",
   "metadata": {},
   "outputs": [
    {
     "data": {
      "image/png": "[encoded data removed]",
      "text/plain": [
       "<Figure size 640x480 with 1 Axes>"
      ]
     },
     "metadata": {},
     "output_type": "display_data"
    }
   ],
   "source": [
    "data.plot.scatter(x=\"pen\",y=\"price\")\n",
    "plt.show()"
   ]
  },
  {
   "cell_type": "markdown",
   "id": "e2b2ed60-85f1-478b-a74b-acc39f38fde7",
   "metadata": {},
   "source": [
    "a straight line an be seen from the graph,therefore it is linear"
   ]
  },
  {
   "cell_type": "markdown",
   "id": "132cb496-aa1c-4b00-813a-45631daa206e",
   "metadata": {},
   "source": [
    "## 2.homoscedasitiy"
   ]
  },
  {
   "cell_type": "code",
   "execution_count": 9,
   "id": "9aa71cfa-80c5-4e22-aa26-b33ea38bd671",
   "metadata": {},
   "outputs": [
    {
     "data": {
      "image/png": "[encoded data removed]",
      "text/plain": [
       "<Figure size 640x480 with 1 Axes>"
      ]
     },
     "metadata": {},
     "output_type": "display_data"
    }
   ],
   "source": [
    "data.plot.scatter(x=\"pen\",y=\"price\")\n",
    "plt.show()"
   ]
  },
  {
   "cell_type": "markdown",
   "id": "92f7e349-f354-407f-8946-6ad9dfe2bde3",
   "metadata": {},
   "source": [
    "no funnel shape is observed from the graph,so it is homosecdasity"
   ]
  },
  {
   "cell_type": "markdown",
   "id": "dca715d1-33e3-49da-8a6d-0f0aa68e1e2b",
   "metadata": {},
   "source": [
    "## 3.normality\n",
    "## histogram: this plot shows the distribution of data,but not acurate"
   ]
  },
  {
   "cell_type": "code",
   "execution_count": 10,
   "id": "9d10b996-8aba-4dac-b64b-5fda1cd45189",
   "metadata": {},
   "outputs": [
    {
     "data": {
      "image/png": "[encoded data removed]",
      "text/plain": [
       "<Figure size 640x480 with 1 Axes>"
      ]
     },
     "metadata": {},
     "output_type": "display_data"
    }
   ],
   "source": [
    "data[\"price\"].hist()\n",
    "plt.show()"
   ]
  },
  {
   "cell_type": "markdown",
   "id": "e65a4350-bd36-40e3-a713-ef3d8983856c",
   "metadata": {},
   "source": [
    "we annot observed a bell shaped from the graph,so we cannot say it it normal distribution"
   ]
  },
  {
   "cell_type": "markdown",
   "id": "854c1ce0-30c5-4475-bf21-3ede21bf248f",
   "metadata": {},
   "source": [
    "## q-q plot\n",
    "this plot displays our data against theoritical normal distribution"
   ]
  },
  {
   "cell_type": "code",
   "execution_count": 11,
   "id": "19707bc7-36fa-4bb1-93fb-9b986b43fe5f",
   "metadata": {},
   "outputs": [
    {
     "data": {
      "image/png": "[encoded data removed]",
      "text/plain": [
       "<Figure size 640x480 with 1 Axes>"
      ]
     },
     "metadata": {},
     "output_type": "display_data"
    }
   ],
   "source": [
    "stats.probplot(data[\"price\"],dist=\"norm\",plot=plt)\n",
    "plt.show()"
   ]
  },
  {
   "cell_type": "markdown",
   "id": "ee81a0de-d668-4758-a96d-11756157f504",
   "metadata": {},
   "source": [
    "most of the datapoints are not aligned with the diagonal line,so we cannot say it is normal distribution"
   ]
  },
  {
   "cell_type": "markdown",
   "id": "59704191-c488-46bc-89f5-d5b652a6f4c0",
   "metadata": {},
   "source": [
    "## shapiro wilk test\n",
    "return two values"
   ]
  },
  {
   "cell_type": "markdown",
   "id": "4db6f7fe-c451-4658-83bd-e84e54faf305",
   "metadata": {},
   "source": [
    "w value:close to 1 is normal\n",
    "p value:close to 0.05 is normal"
   ]
  },
  {
   "cell_type": "code",
   "execution_count": 12,
   "id": "258fc14b-4a15-4516-a6df-e03049abef37",
   "metadata": {},
   "outputs": [
    {
     "name": "stdout",
     "output_type": "stream",
     "text": [
      "0.974761962890625\n",
      "0.9311483502388\n"
     ]
    }
   ],
   "source": [
    "w_value,p_value=stats.shapiro(data[\"price\"])\n",
    "print(w_value)\n",
    "print(p_value)"
   ]
  },
  {
   "cell_type": "markdown",
   "id": "4da30254-201e-4f41-8c6c-6167a46560c9",
   "metadata": {},
   "source": [
    "both values are close to one so it is normal"
   ]
  },
  {
   "cell_type": "markdown",
   "id": "52a781b2-fd03-434f-8511-18ddc3b39cea",
   "metadata": {},
   "source": [
    "## 4. independene is not applicable\n",
    "## 5. multicollinearity is not applicable\n",
    "## 6.outliner check"
   ]
  },
  {
   "cell_type": "code",
   "execution_count": 13,
   "id": "aff62448-cd03-417a-8abb-67f2c004b20d",
   "metadata": {},
   "outputs": [
    {
     "data": {
      "text/plain": [
       "<Axes: >"
      ]
     },
     "execution_count": 13,
     "metadata": {},
     "output_type": "execute_result"
    },
    {
     "data": {
      "image/png": "[encoded data removed]",
      "text/plain": [
       "<Figure size 640x480 with 1 Axes>"
      ]
     },
     "metadata": {},
     "output_type": "display_data"
    }
   ],
   "source": [
    "sn.boxplot(data.pen)"
   ]
  },
  {
   "cell_type": "markdown",
   "id": "98e3b6b3-1041-4f90-86c5-cc043e04159a",
   "metadata": {},
   "source": [
    "no outliner can be seen"
   ]
  },
  {
   "cell_type": "markdown",
   "id": "d58ff051-3dab-4fcc-aaba-b25580add208",
   "metadata": {},
   "source": [
    "## correlation with targets with features\n",
    "## heatmap:displays the correlation based on color scale"
   ]
  },
  {
   "cell_type": "code",
   "execution_count": 14,
   "id": "12ee9674-c40f-4414-a9fe-8b7641b67403",
   "metadata": {},
   "outputs": [],
   "source": [
    "corr=data.corr()\n",
    "\n"
   ]
  },
  {
   "cell_type": "code",
   "execution_count": 15,
   "id": "2f0e8e40-3591-4ff3-9284-833507e55893",
   "metadata": {},
   "outputs": [
    {
     "data": {
      "text/plain": [
       "<Axes: >"
      ]
     },
     "execution_count": 15,
     "metadata": {},
     "output_type": "execute_result"
    },
    {
     "data": {
      "image/png": "[encoded data removed]",
      "text/plain": [
       "<Figure size 640x480 with 2 Axes>"
      ]
     },
     "metadata": {},
     "output_type": "display_data"
    }
   ],
   "source": [
    "sn.heatmap(corr,cmap=\"Greens\",annot=True)"
   ]
  },
  {
   "cell_type": "markdown",
   "id": "6f34f148-9dc6-4e58-be7f-5f2cf069ac11",
   "metadata": {},
   "source": [
    "## extrat features and targets"
   ]
  },
  {
   "cell_type": "code",
   "execution_count": 16,
   "id": "e2556952-5836-4d27-9d7b-27580ea9b162",
   "metadata": {},
   "outputs": [],
   "source": [
    "x=data.pen\n",
    "y=data.price"
   ]
  },
  {
   "cell_type": "code",
   "execution_count": 17,
   "id": "4efb8d1a-d4aa-4bb5-ad21-0dd0006bb208",
   "metadata": {},
   "outputs": [
    {
     "data": {
      "text/plain": [
       "0     5\n",
       "1     3\n",
       "2    20\n",
       "3    10\n",
       "4     9\n",
       "5    12\n",
       "6    17\n",
       "7    14\n",
       "8     8\n",
       "9     6\n",
       "Name: pen, dtype: int64"
      ]
     },
     "execution_count": 17,
     "metadata": {},
     "output_type": "execute_result"
    }
   ],
   "source": [
    "x"
   ]
  },
  {
   "cell_type": "code",
   "execution_count": 18,
   "id": "d263be33-e2f3-4dc9-9167-c47482fdd1d0",
   "metadata": {},
   "outputs": [
    {
     "data": {
      "text/plain": [
       "0    25\n",
       "1    15\n",
       "2    95\n",
       "3    48\n",
       "4    45\n",
       "5    58\n",
       "6    80\n",
       "7    67\n",
       "8    40\n",
       "9    30\n",
       "Name: price, dtype: int64"
      ]
     },
     "execution_count": 18,
     "metadata": {},
     "output_type": "execute_result"
    }
   ],
   "source": [
    "y"
   ]
  },
  {
   "cell_type": "markdown",
   "id": "c1f8512c-84b9-4677-b3bd-219f57b1c592",
   "metadata": {},
   "source": [
    "## spiltting the data"
   ]
  },
  {
   "cell_type": "code",
   "execution_count": 19,
   "id": "79ace1ad-1edc-469b-a7a4-a075adc21ec7",
   "metadata": {},
   "outputs": [],
   "source": [
    "x_train,x_test,y_train,y_test=train_test_split(x,y,test_size=0.2,random_state=20)"
   ]
  },
  {
   "cell_type": "markdown",
   "id": "5c365cd3-5faa-44c8-b555-18640f37f0b5",
   "metadata": {},
   "source": [
    "## reshape"
   ]
  },
  {
   "cell_type": "code",
   "execution_count": 20,
   "id": "b583da79-33cf-447a-98df-a5e27a1bf8bb",
   "metadata": {
    "scrolled": true
   },
   "outputs": [],
   "source": [
    "x_train=x_train.to_numpy().reshape(-1,1)\n",
    "x_test=x_test.to_numpy().reshape(-1,1)\n"
   ]
  },
  {
   "cell_type": "markdown",
   "id": "9aa5d324-09ca-41c0-bdc1-48372a11a9dd",
   "metadata": {},
   "source": [
    "## model training"
   ]
  },
  {
   "cell_type": "code",
   "execution_count": 21,
   "id": "dbef2cf4-7d2f-4b7c-9b6a-a1ea8f9aa9d1",
   "metadata": {},
   "outputs": [],
   "source": [
    "regression=LinearRegression()"
   ]
  },
  {
   "cell_type": "code",
   "execution_count": 22,
   "id": "d6afe08d-30b8-4f34-abfe-0355e4a32ab4",
   "metadata": {},
   "outputs": [
    {
     "data": {
      "text/html": [
       "<style>#sk-container-id-1 {color: black;background-color: white;}#sk-container-id-1 pre{padding: 0;}#sk-container-id-1 div.sk-toggleable {background-color: white;}#sk-container-id-1 label.sk-toggleable__label {cursor: pointer;display: block;width: 100%;margin-bottom: 0;padding: 0.3em;box-sizing: border-box;text-align: center;}#sk-container-id-1 label.sk-toggleable__label-arrow:before {content: \"▸\";float: left;margin-right: 0.25em;color: #696969;}#sk-container-id-1 label.sk-toggleable__label-arrow:hover:before {color: black;}#sk-container-id-1 div.sk-estimator:hover label.sk-toggleable__label-arrow:before {color: black;}#sk-container-id-1 div.sk-toggleable__content {max-height: 0;max-width: 0;overflow: hidden;text-align: left;background-color: #f0f8ff;}#sk-container-id-1 div.sk-toggleable__content pre {margin: 0.2em;color: black;border-radius: 0.25em;background-color: #f0f8ff;}#sk-container-id-1 input.sk-toggleable__control:checked~div.sk-toggleable__content {max-height: 200px;max-width: 100%;overflow: auto;}#sk-container-id-1 input.sk-toggleable__control:checked~label.sk-toggleable__label-arrow:before {content: \"▾\";}#sk-container-id-1 div.sk-estimator input.sk-toggleable__control:checked~label.sk-toggleable__label {background-color: #d4ebff;}#sk-container-id-1 div.sk-label input.sk-toggleable__control:checked~label.sk-toggleable__label {background-color: #d4ebff;}#sk-container-id-1 input.sk-hidden--visually {border: 0;clip: rect(1px 1px 1px 1px);clip: rect(1px, 1px, 1px, 1px);height: 1px;margin: -1px;overflow: hidden;padding: 0;position: absolute;width: 1px;}#sk-container-id-1 div.sk-estimator {font-family: monospace;background-color: #f0f8ff;border: 1px dotted black;border-radius: 0.25em;box-sizing: border-box;margin-bottom: 0.5em;}#sk-container-id-1 div.sk-estimator:hover {background-color: #d4ebff;}#sk-container-id-1 div.sk-parallel-item::after {content: \"\";width: 100%;border-bottom: 1px solid gray;flex-grow: 1;}#sk-container-id-1 div.sk-label:hover label.sk-toggleable__label {background-color: #d4ebff;}#sk-container-id-1 div.sk-serial::before {content: \"\";position: absolute;border-left: 1px solid gray;box-sizing: border-box;top: 0;bottom: 0;left: 50%;z-index: 0;}#sk-container-id-1 div.sk-serial {display: flex;flex-direction: column;align-items: center;background-color: white;padding-right: 0.2em;padding-left: 0.2em;position: relative;}#sk-container-id-1 div.sk-item {position: relative;z-index: 1;}#sk-container-id-1 div.sk-parallel {display: flex;align-items: stretch;justify-content: center;background-color: white;position: relative;}#sk-container-id-1 div.sk-item::before, #sk-container-id-1 div.sk-parallel-item::before {content: \"\";position: absolute;border-left: 1px solid gray;box-sizing: border-box;top: 0;bottom: 0;left: 50%;z-index: -1;}#sk-container-id-1 div.sk-parallel-item {display: flex;flex-direction: column;z-index: 1;position: relative;background-color: white;}#sk-container-id-1 div.sk-parallel-item:first-child::after {align-self: flex-end;width: 50%;}#sk-container-id-1 div.sk-parallel-item:last-child::after {align-self: flex-start;width: 50%;}#sk-container-id-1 div.sk-parallel-item:only-child::after {width: 0;}#sk-container-id-1 div.sk-dashed-wrapped {border: 1px dashed gray;margin: 0 0.4em 0.5em 0.4em;box-sizing: border-box;padding-bottom: 0.4em;background-color: white;}#sk-container-id-1 div.sk-label label {font-family: monospace;font-weight: bold;display: inline-block;line-height: 1.2em;}#sk-container-id-1 div.sk-label-container {text-align: center;}#sk-container-id-1 div.sk-container {/* jupyter's `normalize.less` sets `[hidden] { display: none; }` but bootstrap.min.css set `[hidden] { display: none !important; }` so we also need the `!important` here to be able to override the default hidden behavior on the sphinx rendered scikit-learn.org. See: https://github.com/scikit-learn/scikit-learn/issues/21755 */display: inline-block !important;position: relative;}#sk-container-id-1 div.sk-text-repr-fallback {display: none;}</style><div id=\"sk-container-id-1\" class=\"sk-top-container\"><div class=\"sk-text-repr-fallback\"><pre>LinearRegression()</pre><b>In a Jupyter environment, please rerun this cell to show the HTML representation or trust the notebook. <br />On GitHub, the HTML representation is unable to render, please try loading this page with nbviewer.org.</b></div><div class=\"sk-container\" hidden><div class=\"sk-item\"><div class=\"sk-estimator sk-toggleable\"><input class=\"sk-toggleable__control sk-hidden--visually\" id=\"sk-estimator-id-1\" type=\"checkbox\" checked><label for=\"sk-estimator-id-1\" class=\"sk-toggleable__label sk-toggleable__label-arrow\">LinearRegression</label><div class=\"sk-toggleable__content\"><pre>LinearRegression()</pre></div></div></div></div></div>"
      ],
      "text/plain": [
       "LinearRegression()"
      ]
     },
     "execution_count": 22,
     "metadata": {},
     "output_type": "execute_result"
    }
   ],
   "source": [
    "regression.fit(x_train,y_train)"
   ]
  },
  {
   "cell_type": "markdown",
   "id": "c1903a45-e797-4fb2-a9dc-83118895032b",
   "metadata": {},
   "source": [
    "## model testing"
   ]
  },
  {
   "cell_type": "code",
   "execution_count": 23,
   "id": "8a12e749-0cd1-4da5-ad44-b756725001ec",
   "metadata": {},
   "outputs": [
    {
     "name": "stdout",
     "output_type": "stream",
     "text": [
      "4.602073882047956\n",
      "2.577446532728473\n"
     ]
    }
   ],
   "source": [
    "y_pred=regression.predict(x_test)\n",
    "print(regression.coef_[0])\n",
    "print(regression.intercept_)"
   ]
  },
  {
   "cell_type": "markdown",
   "id": "d32aeb3a-df08-4e19-987a-8fce5a3fa18c",
   "metadata": {},
   "source": [
    "y= 4.6x+2.57"
   ]
  },
  {
   "cell_type": "code",
   "execution_count": 24,
   "id": "637290f0-29ff-40a7-a452-bf40580d0733",
   "metadata": {},
   "outputs": [
    {
     "data": {
      "text/html": [
       "<div>\n",
       "<style scoped>\n",
       "    .dataframe tbody tr th:only-of-type {\n",
       "        vertical-align: middle;\n",
       "    }\n",
       "\n",
       "    .dataframe tbody tr th {\n",
       "        vertical-align: top;\n",
       "    }\n",
       "\n",
       "    .dataframe thead th {\n",
       "        text-align: right;\n",
       "    }\n",
       "</style>\n",
       "<table border=\"1\" class=\"dataframe\">\n",
       "  <thead>\n",
       "    <tr style=\"text-align: right;\">\n",
       "      <th></th>\n",
       "      <th>y_test</th>\n",
       "      <th>y_pred</th>\n",
       "    </tr>\n",
       "  </thead>\n",
       "  <tbody>\n",
       "    <tr>\n",
       "      <th>7</th>\n",
       "      <td>67</td>\n",
       "      <td>67.006481</td>\n",
       "    </tr>\n",
       "    <tr>\n",
       "      <th>1</th>\n",
       "      <td>15</td>\n",
       "      <td>16.383668</td>\n",
       "    </tr>\n",
       "  </tbody>\n",
       "</table>\n",
       "</div>"
      ],
      "text/plain": [
       "   y_test     y_pred\n",
       "7      67  67.006481\n",
       "1      15  16.383668"
      ]
     },
     "execution_count": 24,
     "metadata": {},
     "output_type": "execute_result"
    }
   ],
   "source": [
    "data_error=pd.DataFrame()\n",
    "data_error['y_test']=y_test\n",
    "data_error['y_pred']=y_pred\n",
    "data_error.head()"
   ]
  },
  {
   "cell_type": "markdown",
   "id": "24daaead-d3c5-4c35-8338-378a29ab3f6c",
   "metadata": {},
   "source": [
    "## metrics evaluation"
   ]
  },
  {
   "cell_type": "code",
   "execution_count": 25,
   "id": "72004e57-5b3f-4903-a210-4227b88cdd99",
   "metadata": {},
   "outputs": [
    {
     "data": {
      "text/plain": [
       "0.6950745301361039"
      ]
     },
     "execution_count": 25,
     "metadata": {},
     "output_type": "execute_result"
    }
   ],
   "source": [
    "mean_absolute_error(y_test,y_pred)"
   ]
  },
  {
   "cell_type": "code",
   "execution_count": 26,
   "id": "0652ea92-92ee-4bcb-bc73-901f90935aaf",
   "metadata": {},
   "outputs": [
    {
     "data": {
      "text/plain": [
       "0.95728981552381"
      ]
     },
     "execution_count": 26,
     "metadata": {},
     "output_type": "execute_result"
    }
   ],
   "source": [
    "mean_squared_error(y_test,y_pred)"
   ]
  },
  {
   "cell_type": "code",
   "execution_count": 27,
   "id": "9ad0ce06-89b3-470f-be06-f6175f77ff85",
   "metadata": {},
   "outputs": [
    {
     "data": {
      "text/plain": [
       "0.9784118843942003"
      ]
     },
     "execution_count": 27,
     "metadata": {},
     "output_type": "execute_result"
    }
   ],
   "source": [
    "mse=mean_squared_error(y_test,y_pred)\n",
    "np.sqrt(mse)"
   ]
  },
  {
   "cell_type": "code",
   "execution_count": 28,
   "id": "e02e7bb5-1514-4dc8-a03e-005e181bf771",
   "metadata": {},
   "outputs": [
    {
     "data": {
      "text/plain": [
       "0.9985838908054382"
      ]
     },
     "execution_count": 28,
     "metadata": {},
     "output_type": "execute_result"
    }
   ],
   "source": [
    "r2_score(y_test,y_pred)"
   ]
  },
  {
   "cell_type": "markdown",
   "id": "d4b42fb5-f3dc-4337-8a89-9dd25b85512b",
   "metadata": {},
   "source": [
    "## visualization regression line"
   ]
  },
  {
   "cell_type": "code",
   "execution_count": 29,
   "id": "e3c51a57-f0ee-43fa-bb10-3ede078a0ecd",
   "metadata": {},
   "outputs": [
    {
     "data": {
      "text/plain": [
       "<matplotlib.collections.PathCollection at 0x28800f56e90>"
      ]
     },
     "execution_count": 29,
     "metadata": {},
     "output_type": "execute_result"
    },
    {
     "data": {
      "image/png": "[encoded data removed]",
      "text/plain": [
       "<Figure size 640x480 with 1 Axes>"
      ]
     },
     "metadata": {},
     "output_type": "display_data"
    }
   ],
   "source": [
    "plt.plot(x_train,regression.predict(x_train),color=\"red\")\n",
    "plt.scatter(data[\"pen\"],data[\"price\"])"
   ]
  },
  {
   "cell_type": "markdown",
   "id": "72ed5072-c89d-44e8-8a43-89c5c15f0e60",
   "metadata": {},
   "source": [
    "## the model performane is \n",
    "r2 score:0.9985838908054382 ie 99.8%"
   ]
  },
  {
   "cell_type": "code",
   "execution_count": null,
   "id": "f7ba7aca-2778-4667-b7e3-fe3880e666ec",
   "metadata": {},
   "outputs": [],
   "source": []
  }
 ],
 "metadata": {
  "kernelspec": {
   "display_name": "Python 3 (ipykernel)",
   "language": "python",
   "name": "python3"
  },
  "language_info": {
   "codemirror_mode": {
    "name": "ipython",
    "version": 3
   },
   "file_extension": ".py",
   "mimetype": "text/x-python",
   "name": "python",
   "nbconvert_exporter": "python",
   "pygments_lexer": "ipython3",
   "version": "3.11.7"
  }
 },
 "nbformat": 4,
 "nbformat_minor": 5
}
